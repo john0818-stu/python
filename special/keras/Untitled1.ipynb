{
 "cells": [
  {
   "cell_type": "code",
   "execution_count": 1,
   "metadata": {},
   "outputs": [
    {
     "name": "stderr",
     "output_type": "stream",
     "text": [
      "Using TensorFlow backend.\n"
     ]
    },
    {
     "name": "stdout",
     "output_type": "stream",
     "text": [
      "(60000, 28, 28, 1)\n",
      "(10000, 28, 28, 1)\n",
      "Train on 60000 samples, validate on 10000 samples\n",
      "Epoch 1/1\n",
      "60000/60000 [==============================] - 31s 521us/step - loss: 0.2569 - accuracy: 0.9193 - val_loss: 0.0565 - val_accuracy: 0.9842\n",
      "Test loss: 0.056525579584017396\n",
      "Test accuracy: 0.9842000007629395\n"
     ]
    }
   ],
   "source": [
    "import numpy as np\n",
    "\n",
    "from keras.models import Sequential\n",
    "from keras.layers import Dense, Dropout, Flatten \n",
    "from keras.layers.convolutional import Conv2D, MaxPooling2D\n",
    "from keras.datasets import mnist\n",
    "from keras.utils import np_utils\n",
    "from keras.optimizers import Adadelta\n",
    "\n",
    "batch_size = 128\n",
    "num_classes = 10 #分類個數\n",
    "epochs = 1 #訓練輪數\n",
    "\n",
    "(X_train, y_train), (X_test, y_test) = mnist.load_data() #加載mnist數據\n",
    "\n",
    "\n",
    "X_train = X_train.reshape(X_train.shape[0], 28, 28, 1).astype('float32') #轉換格式, (樣本數量, 長, 寬, 1)\n",
    "X_test = X_test.reshape(X_test.shape[0], 28, 28, 1).astype('float32')\n",
    "\n",
    "print( X_train.shape)\n",
    "print( X_test.shape)\n",
    "\n",
    "X_train /= 255 #像素大小介於0~255, 統一除以255, 將像素值控制在0~1的範圍\n",
    "X_test /= 255\n",
    "\n",
    "y_train = np_utils.to_categorical(y_train, 10) #生成one-hot編碼\n",
    "y_test = np_utils.to_categorical(y_test, 10)\n",
    "\n",
    "#建構模型\n",
    "model = Sequential()\n",
    "\n",
    "#第一層卷積神經網路\n",
    "model.add(Conv2D(filters=64, kernel_size=(3,3), activation='relu', input_shape=(28, 28, 1)))\n",
    "model.add(MaxPooling2D(pool_size=(2,2)))\n",
    "#第二層卷積神經網路\n",
    "model.add(Conv2D(filters=64, kernel_size=(3,3), activation='relu'))\n",
    "model.add(MaxPooling2D(pool_size=(2,2)))\n",
    "model.add(Dropout(0.5))\n",
    "\n",
    "#鋪平當前節點\n",
    "model.add(Flatten())\n",
    "#生成全連接層\n",
    "model.add(Dense(128, activation='relu'))\n",
    "model.add(Dense(num_classes, activation='softmax'))\n",
    "#定義損失函數學習率\n",
    "model.compile(loss = 'categorical_crossentropy', optimizer=Adadelta(), metrics=['accuracy'])\n",
    "\n",
    "#開始訓練\n",
    "model.fit(X_train, y_train, epochs=epochs, batch_size=batch_size, verbose=1, validation_data=(X_test, y_test))\n",
    "\n",
    "#計算準確率\n",
    "score = model.evaluate(X_test, y_test, verbose=0)\n",
    "print(\"Test loss:\", score[0])\n",
    "print('Test accuracy:', score[1])\n"
   ]
  },
  {
   "cell_type": "code",
   "execution_count": 2,
   "metadata": {},
   "outputs": [
    {
     "ename": "FileNotFoundError",
     "evalue": "[WinError 3] 系統找不到指定的路徑。: 'C:\\\\\\\\Users\\\\skenick\\\\Desktop\\\\\\\\python數字辨識專題\\\\\\\\'",
     "output_type": "error",
     "traceback": [
      "\u001b[1;31m---------------------------------------------------------------------------\u001b[0m",
      "\u001b[1;31mFileNotFoundError\u001b[0m                         Traceback (most recent call last)",
      "\u001b[1;32m<ipython-input-2-9131082ab329>\u001b[0m in \u001b[0;36m<module>\u001b[1;34m\u001b[0m\n\u001b[0;32m      9\u001b[0m \u001b[1;33m\u001b[0m\u001b[0m\n\u001b[0;32m     10\u001b[0m \u001b[0mdirPath\u001b[0m \u001b[1;33m=\u001b[0m \u001b[1;34mr\"C:\\\\Users\\skenick\\Desktop\\\\python數字辨識專題\\\\\"\u001b[0m\u001b[1;33m\u001b[0m\u001b[1;33m\u001b[0m\u001b[0m\n\u001b[1;32m---> 11\u001b[1;33m \u001b[0mnum_Data\u001b[0m \u001b[1;33m=\u001b[0m \u001b[1;33m[\u001b[0m \u001b[0mf\u001b[0m \u001b[1;32mfor\u001b[0m \u001b[0mf\u001b[0m \u001b[1;32min\u001b[0m \u001b[0mos\u001b[0m\u001b[1;33m.\u001b[0m\u001b[0mlistdir\u001b[0m\u001b[1;33m(\u001b[0m\u001b[0mdirPath\u001b[0m\u001b[1;33m)\u001b[0m \u001b[1;32mif\u001b[0m \u001b[0mos\u001b[0m\u001b[1;33m.\u001b[0m\u001b[0mpath\u001b[0m\u001b[1;33m.\u001b[0m\u001b[0misfile\u001b[0m\u001b[1;33m(\u001b[0m\u001b[0mos\u001b[0m\u001b[1;33m.\u001b[0m\u001b[0mpath\u001b[0m\u001b[1;33m.\u001b[0m\u001b[0mjoin\u001b[0m\u001b[1;33m(\u001b[0m\u001b[0mdirPath\u001b[0m\u001b[1;33m,\u001b[0m \u001b[0mf\u001b[0m\u001b[1;33m)\u001b[0m\u001b[1;33m)\u001b[0m\u001b[1;33m]\u001b[0m\u001b[1;33m\u001b[0m\u001b[1;33m\u001b[0m\u001b[0m\n\u001b[0m\u001b[0;32m     12\u001b[0m \u001b[0mresult_List\u001b[0m \u001b[1;33m=\u001b[0m \u001b[1;33m[\u001b[0m\u001b[1;33m]\u001b[0m\u001b[1;33m\u001b[0m\u001b[1;33m\u001b[0m\u001b[0m\n\u001b[0;32m     13\u001b[0m \u001b[0mdir_List\u001b[0m \u001b[1;33m=\u001b[0m \u001b[1;33m[\u001b[0m\u001b[1;33m]\u001b[0m\u001b[1;33m\u001b[0m\u001b[1;33m\u001b[0m\u001b[0m\n",
      "\u001b[1;31mFileNotFoundError\u001b[0m: [WinError 3] 系統找不到指定的路徑。: 'C:\\\\\\\\Users\\\\skenick\\\\Desktop\\\\\\\\python數字辨識專題\\\\\\\\'"
     ]
    }
   ],
   "source": [
    "\n",
    "\n",
    "#--------------------------------------------------------------\n",
    "#可使用pip安裝 scikit-image模組 , 指令:pip install scikit-image\n",
    "#可使用pip安裝 matplotlib, 指令:pip install matplotlib\n",
    "from skimage import io\n",
    "from skimage import transform\n",
    "from skimage import util\n",
    "import matplotlib.pyplot as plt\n",
    "import os \n",
    "\n",
    "dirPath = r\"C:\\\\Users\\skenick\\Desktop\\\\python數字辨識專題\\\\\"\n",
    "num_Data = [ f for f in os.listdir(dirPath) if os.path.isfile(os.path.join(dirPath, f))]\n",
    "result_List = []\n",
    "dir_List = []\n",
    "for x in num_Data :\n",
    "    if \"jpg\" in x :\n",
    "        dir_List += [x]\n",
    "        img1 = io.imread(str(x), as_gray=True) #讀檔, 灰階\n",
    "        inverse_image = util.invert(img1)\n",
    "\n",
    "        #io.imshow(inverse_image)\n",
    "        #plt.show()\n",
    "\n",
    "        inverse_image = np.reshape(inverse_image, (1, 28, 28, 1)).astype('float32')\n",
    "\n",
    "        #proba = model.predict_proba(img1, verbose=0)\n",
    "        result = model.predict_classes(inverse_image, verbose=0)\n",
    "\n",
    "        result_List += [result[0]]\n",
    "    \n",
    "    else : continue\n",
    "\n",
    "with open(\"num.txt\", \"w\", encoding=\"UTF-8\") as outfile :\n",
    "\n",
    "    count = -1\n",
    "    for x in result_List :\n",
    "        count += 1\n",
    "        outfile.write( dir_List[count] )\n",
    "        outfile.write( \" : \"+str(x)+'\\n' )"
   ]
  }
 ],
 "metadata": {
  "kernelspec": {
   "display_name": "Python 3",
   "language": "python",
   "name": "python3"
  },
  "language_info": {
   "codemirror_mode": {
    "name": "ipython",
    "version": 3
   },
   "file_extension": ".py",
   "mimetype": "text/x-python",
   "name": "python",
   "nbconvert_exporter": "python",
   "pygments_lexer": "ipython3",
   "version": "3.7.6"
  }
 },
 "nbformat": 4,
 "nbformat_minor": 2
}
