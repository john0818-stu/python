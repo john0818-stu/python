{
 "cells": [
  {
   "cell_type": "code",
   "execution_count": 66,
   "metadata": {
    "scrolled": true
   },
   "outputs": [
    {
     "name": "stdout",
     "output_type": "stream",
     "text": [
      "34 11 32 55 64 13 42 45\n",
      "31 58 35 12 43 46 63 14\n",
      "10 33 56 59 54 61 44 41\n",
      "57 30 25 36 47 52 15 62\n",
      "26  9 48 53 60  1 40 51\n",
      "29  6 27 24 37 50 19 16\n",
      " 8 23  4 49 18 21  2 39\n",
      " 5 28  7 22  3 38 17 20\n"
     ]
    }
   ],
   "source": [
    "def knightTour(ni, nj, xi, xj):\n",
    "    degree_map =   [ ( [ ( s+j+2 if j < 2 else 4+2*s ) for j in range(nj-2) ] + [ s+3 , s+2 ] ) for s in range(2) ] + [ ( [ ( 2*j+4 if j < 2 else 8 ) for j in range(nj-2) ] + [ 6 , 4 ] ) for i in range(ni-4) ] + [ ( [ ( s+j+2 if j < 2 else 4+2*s ) for j in range(nj-2) ] + [ s+3 , s+2 ] ) for s in range(1,-1,-1) ] \n",
    "    moves = [ [ (1,-2),(2,-1),(2,1),(1,2),(-1,2),(-2,1),(-2,-1),(-1,-2) ] for i in range( ni*nj+1 ) ] \n",
    "    degree_map[xi][xj] , s = ni*nj+1 , 1  \n",
    "    while ( s < ni*nj ) :\n",
    "        moves[s] = sorted( [ ( di , dj ) for di,dj in moves[s] if ( ni > xi+di >= 0 and nj > xj+dj >= 0 and degree_map[xi+di][xj+dj] <= 8 ) ] , key = lambda x : degree_map[xi+x[0]][xj+x[1]] )\n",
    "        if moves[s] != [] :\n",
    "            for di , dj in moves[s][1:] :\n",
    "                degree_map[xi+di][xj+dj] -= 1\n",
    "            xi , xj = xi+moves[s][0][0] , xj+moves[s][0][1]\n",
    "            s , degree_map[xi][xj] =  ( s + 1 ) , ni*nj + s + 1\n",
    "        else :\n",
    "            degree_map[xi][xj] = len( [ ( di , dj ) for di,dj in  [ (1,-2),(2,-1),(2,1),(1,2),(-1,2),(-2,1),(-2,-1),(-1,-2) ] if ( ni > xi+di >= 0 and nj > xj+dj >= 0 and degree_map[xi+di][xj+dj] <= 8 ) ] ) + 1\n",
    "            xi , xj =  xi-moves[s-1][0][0] , xj-moves[s-1][0][1]\n",
    "            for di , dj in moves[s-1][1:] :\n",
    "                degree_map[xi+di][xj+dj] += 1\n",
    "            moves[s] , moves[s-1] = [ (1,-2),(2,-1),(2,1),(1,2),(-1,2),(-2,1),(-2,-1),(-1,-2) ] , moves[s-1][1:]     \n",
    "            s -= 1\n",
    "    print( \"\\n\".join( [ \" \".join( [ ( f\"{x-ni*nj:>{len(str(ni*nj))}}\" ) for x in lis ] ) for lis in degree_map ] ) )\n",
    "knightTour( 8 , 8 ,  4 , 5 )"
   ]
  }
 ],
 "metadata": {
  "kernelspec": {
   "display_name": "Python 3",
   "language": "python",
   "name": "python3"
  },
  "language_info": {
   "codemirror_mode": {
    "name": "ipython",
    "version": 3
   },
   "file_extension": ".py",
   "mimetype": "text/x-python",
   "name": "python",
   "nbconvert_exporter": "python",
   "pygments_lexer": "ipython3",
   "version": "3.7.6"
  }
 },
 "nbformat": 4,
 "nbformat_minor": 4
}
