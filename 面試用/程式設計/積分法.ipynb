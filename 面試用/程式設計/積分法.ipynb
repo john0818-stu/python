{
 "cells": [
  {
   "cell_type": "code",
   "execution_count": 1,
   "metadata": {},
   "outputs": [
    {
     "name": "stdout",
     "output_type": "stream",
     "text": [
      "矩形積分法 2.402320898266172 誤差值為 : 0.011892664106922801\n",
      "梯形積分法 2.4141018707171336 誤差值為 : 0.00011169165596136565\n"
     ]
    }
   ],
   "source": [
    "from math import *\n",
    "from numpy import *\n",
    "\n",
    "def f(x) :\n",
    "\n",
    "    return abs( sin(x) - cos(x) )\n",
    "\n",
    "def rintergral( f , a , b , n ) :\n",
    "\n",
    "    ts = linspace( b , a , n + 1 )\n",
    "    \n",
    "    ans = sum( f(ts)[:-1] )*h\n",
    "               \n",
    "    return ans\n",
    "\n",
    "def tintergral( f , a , b , n ) :\n",
    "\n",
    "    ts = linspace( b , a , n + 1 )\n",
    "\n",
    "    ans = h*( f(a) + f(b) + 2*sum( f(ts)[1:-1] ) )/2\n",
    "\n",
    "    return ans\n",
    "\n",
    "def main() :\n",
    "\n",
    "    a , b , n = pi , pi/4 , 100\n",
    "\n",
    "    global h \n",
    "\n",
    "    h = ( a - b ) / n\n",
    "\n",
    "    isum = 1 + sqrt(2) #正解\n",
    "\n",
    "    rsum , tsum = rintergral( f , a , b , n ) , tintergral( f , a , b , n )\n",
    "\n",
    "    print( \"矩形積分法 {} 誤差值為 : {}\".format( rsum , abs(isum - rsum) )   )\n",
    "\n",
    "    print( \"梯形積分法 {} 誤差值為 : {}\".format( tsum , abs(isum - tsum) )   )\n",
    "\n",
    "    \n",
    "main()"
   ]
  },
  {
   "cell_type": "code",
   "execution_count": null,
   "metadata": {},
   "outputs": [],
   "source": []
  }
 ],
 "metadata": {
  "kernelspec": {
   "display_name": "Python 3",
   "language": "python",
   "name": "python3"
  },
  "language_info": {
   "codemirror_mode": {
    "name": "ipython",
    "version": 3
   },
   "file_extension": ".py",
   "mimetype": "text/x-python",
   "name": "python",
   "nbconvert_exporter": "python",
   "pygments_lexer": "ipython3",
   "version": "3.7.6"
  }
 },
 "nbformat": 4,
 "nbformat_minor": 4
}
