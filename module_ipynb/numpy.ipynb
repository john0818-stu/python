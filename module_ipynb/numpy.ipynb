{
 "cells": [
  {
   "cell_type": "code",
   "execution_count": 1,
   "metadata": {},
   "outputs": [],
   "source": [
    "import numpy as np\n",
    "from random import * "
   ]
  },
  {
   "cell_type": "code",
   "execution_count": 2,
   "metadata": {},
   "outputs": [],
   "source": [
    "a = np.array( [ [ randint(0,10) for x in range(3) ] for y in range(4) ] )"
   ]
  },
  {
   "cell_type": "code",
   "execution_count": 3,
   "metadata": {},
   "outputs": [
    {
     "name": "stdout",
     "output_type": "stream",
     "text": [
      "[[8 5 7]\n",
      " [5 9 4]\n",
      " [5 5 2]\n",
      " [1 2 7]]\n",
      "[[4.  2.5 3.5]\n",
      " [2.5 4.5 2. ]\n",
      " [2.5 2.5 1. ]\n",
      " [0.5 1.  3.5]]\n",
      "[[1 0 0 0]\n",
      " [0 1 0 0]\n",
      " [0 0 1 0]\n",
      " [0 0 0 1]]\n"
     ]
    }
   ],
   "source": [
    "aa = np.eye(4 , dtype=int)  #dtype 預設 float\n",
    "print( a , a/2 , aa , sep=\"\\n\" )    #+,-,*,/,==,!=,>=,<="
   ]
  },
  {
   "cell_type": "code",
   "execution_count": 4,
   "metadata": {},
   "outputs": [
    {
     "name": "stdout",
     "output_type": "stream",
     "text": [
      "[[ True False  True]\n",
      " [False  True False]\n",
      " [False False False]\n",
      " [False False  True]]\n",
      "False\n",
      "True\n"
     ]
    }
   ],
   "source": [
    "print( a>5 , np.all(a>5) , np.any(a>5) , sep=\"\\n\" )"
   ]
  },
  {
   "cell_type": "code",
   "execution_count": 5,
   "metadata": {},
   "outputs": [
    {
     "name": "stdout",
     "output_type": "stream",
     "text": [
      "[[8, 5, 7], [5, 9, 4], [5, 5, 2], [1, 2, 7]]\n",
      "[[8 5 7]\n",
      " [5 9 4]\n",
      " [5 5 2]\n",
      " [1 2 7]]\n"
     ]
    }
   ],
   "source": [
    "print( a.tolist() ) \n",
    "print( a )"
   ]
  },
  {
   "cell_type": "code",
   "execution_count": 6,
   "metadata": {},
   "outputs": [
    {
     "name": "stdout",
     "output_type": "stream",
     "text": [
      "(4, 3)\n"
     ]
    }
   ],
   "source": [
    "print( a.shape )        # 幾X幾 的矩陣"
   ]
  },
  {
   "cell_type": "code",
   "execution_count": 7,
   "metadata": {},
   "outputs": [
    {
     "name": "stdout",
     "output_type": "stream",
     "text": [
      "[8 5 7 5 9 4 5 5 2 1 2 7]\n",
      "[8 5 7 5 9 4 5 5 2 1 2 7]\n",
      "[[[8 5 7]\n",
      "  [5 9 4]]\n",
      "\n",
      " [[5 5 2]\n",
      "  [1 2 7]]]\n"
     ]
    }
   ],
   "source": [
    "b = a.reshape( 12 )         # 改變維度\n",
    "c = a.reshape( -1 )          # -1 : 自動計算\n",
    "d = a.reshape( 2 , 2 , -1 )  # 2 X 2 X 3 矩陣\n",
    "\n",
    "print( b , c , d , sep=\"\\n\" )"
   ]
  },
  {
   "cell_type": "code",
   "execution_count": 8,
   "metadata": {},
   "outputs": [
    {
     "name": "stdout",
     "output_type": "stream",
     "text": [
      "[[8 5 5 1]\n",
      " [5 9 5 2]\n",
      " [7 4 2 7]]\n"
     ]
    }
   ],
   "source": [
    "tran_a = np.transpose(a)\n",
    "print( tran_a )   #轉置矩陣"
   ]
  },
  {
   "cell_type": "code",
   "execution_count": 9,
   "metadata": {},
   "outputs": [
    {
     "name": "stdout",
     "output_type": "stream",
     "text": [
      "2\n"
     ]
    }
   ],
   "source": [
    "print( a.ndim )             #2維矩陣"
   ]
  },
  {
   "cell_type": "code",
   "execution_count": 10,
   "metadata": {},
   "outputs": [
    {
     "name": "stdout",
     "output_type": "stream",
     "text": [
      "[[6 6 6 6]\n",
      " [6 6 6 6]\n",
      " [6 6 6 6]]\n",
      "[[6 6 6 6]\n",
      " [6 6 6 6]\n",
      " [6 6 6 6]]\n"
     ]
    }
   ],
   "source": [
    "a1 = np.array( [ [ 2 for i in range(4) ] for i in range(3) ] )\n",
    "a2 = np.array( [ [ 3 for i in range(4) ] for i in range(3) ] )\n",
    "print( np.multiply( a1 , a2 ) )\n",
    "print( a1*a2 )"
   ]
  },
  {
   "cell_type": "code",
   "execution_count": 11,
   "metadata": {},
   "outputs": [
    {
     "name": "stdout",
     "output_type": "stream",
     "text": [
      "[[ 1.00000000e+00  0.00000000e+00  1.94289029e-16 -9.71445147e-17]\n",
      " [ 2.22044605e-16  1.00000000e+00  0.00000000e+00 -5.55111512e-17]\n",
      " [ 2.22044605e-16  0.00000000e+00  1.00000000e+00 -1.11022302e-16]\n",
      " [ 0.00000000e+00  0.00000000e+00  1.11022302e-16  1.00000000e+00]]\n"
     ]
    }
   ],
   "source": [
    "a3 = np.array( [ [ randint(1,10) for i in range(4) ] for i in range(4) ] )\n",
    "a4 = np.linalg.inv(a3)\n",
    "print( np.dot( a3 , a4 ) )"
   ]
  },
  {
   "cell_type": "code",
   "execution_count": 12,
   "metadata": {},
   "outputs": [
    {
     "name": "stdout",
     "output_type": "stream",
     "text": [
      "[[138 113  79  67]\n",
      " [113 122  78  51]\n",
      " [ 79  78  54  29]\n",
      " [ 67  51  29  54]]\n"
     ]
    }
   ],
   "source": [
    "print( np.dot( a , tran_a ) )   #內積"
   ]
  },
  {
   "cell_type": "code",
   "execution_count": 13,
   "metadata": {},
   "outputs": [
    {
     "name": "stdout",
     "output_type": "stream",
     "text": [
      "[[64 40 40  8 40 72 40 16 56 32 16 56]\n",
      " [40 25 25  5 25 45 25 10 35 20 10 35]\n",
      " [56 35 35  7 35 63 35 14 49 28 14 49]\n",
      " [40 25 25  5 25 45 25 10 35 20 10 35]\n",
      " [72 45 45  9 45 81 45 18 63 36 18 63]\n",
      " [32 20 20  4 20 36 20  8 28 16  8 28]\n",
      " [40 25 25  5 25 45 25 10 35 20 10 35]\n",
      " [40 25 25  5 25 45 25 10 35 20 10 35]\n",
      " [16 10 10  2 10 18 10  4 14  8  4 14]\n",
      " [ 8  5  5  1  5  9  5  2  7  4  2  7]\n",
      " [16 10 10  2 10 18 10  4 14  8  4 14]\n",
      " [56 35 35  7 35 63 35 14 49 28 14 49]]\n"
     ]
    }
   ],
   "source": [
    "print( np.outer( a , tran_a ) )   #外積"
   ]
  }
 ],
 "metadata": {
  "kernelspec": {
   "display_name": "Python 3",
   "language": "python",
   "name": "python3"
  },
  "language_info": {
   "codemirror_mode": {
    "name": "ipython",
    "version": 3
   },
   "file_extension": ".py",
   "mimetype": "text/x-python",
   "name": "python",
   "nbconvert_exporter": "python",
   "pygments_lexer": "ipython3",
   "version": "3.7.6"
  }
 },
 "nbformat": 4,
 "nbformat_minor": 4
}
