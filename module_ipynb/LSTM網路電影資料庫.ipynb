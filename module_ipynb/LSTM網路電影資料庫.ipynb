{
 "cells": [
  {
   "cell_type": "code",
   "execution_count": 152,
   "id": "cfab1cbf",
   "metadata": {},
   "outputs": [],
   "source": [
    "import matplotlib as mpl\n",
    "import matplotlib.pyplot as plt\n",
    "\n",
    "import numpy as np\n",
    "import sklearn\n",
    "import pandas as pd\n",
    "\n",
    "import os\n",
    "import sys\n",
    "import time\n",
    "\n",
    "import tensorflow as tf\n",
    "from tensorflow import keras\n",
    "from tensorflow.keras import layers"
   ]
  },
  {
   "cell_type": "code",
   "execution_count": 158,
   "id": "b2d4ea0c",
   "metadata": {},
   "outputs": [],
   "source": [
    "max_features = 20000\n",
    "imdb = keras.datasets.imdb \n",
    "(train_data, train_labels), (test_data, test_labels) = imdb.load_data( num_words = max_features )\n",
    "# max_features 數據字的個數 前10000個會被保留 其他的被特殊字處理\n",
    "\n",
    " # 文字字典\n",
    "#word -> id\n",
    "word_index  = imdb.get_word_index()\n",
    "#id -> word \n",
    "word_index = dict( [ ( b+3 , a ) for a , b in word_index.items() ] )\n",
    "word_index[0] = '<PAD>'      # padding时用来填充的字\n",
    "word_index[1] = '<START>'    # 句子開始\n",
    "word_index[2] = '<UNK>'      # 無法識別的字\n",
    "word_index[3] = '<END>'      # 結束字符\n"
   ]
  },
  {
   "cell_type": "code",
   "execution_count": 159,
   "id": "fdd19398",
   "metadata": {},
   "outputs": [
    {
     "data": {
      "text/plain": [
       "\"<START> this film was just brilliant casting location scenery story direction everyone's really suited the part they played and you could just imagine being there robert <UNK> is an amazing actor and now the same being director <UNK> father came from the same scottish island as myself so i loved the fact there was a real connection with this film the witty remarks throughout the film were great it was just brilliant so much that i bought the film as soon as it was released for retail and would recommend it to everyone to watch and the fly fishing was amazing really cried at the end it was so sad and you know what they say if you cry at a film it must have been good and this definitely was also congratulations to the two little boy's that played the <UNK> of norman and paul they were just brilliant children are often left out of the praising list i think because the stars that play them all grown up are such a big profile for the whole film but these children are amazing and should be praised for what they have done don't you think the whole story was so lovely because it was true and was someone's life after all that was shared with us all\""
      ]
     },
     "execution_count": 159,
     "metadata": {},
     "output_type": "execute_result"
    }
   ],
   "source": [
    "def decode_review( text_ids ) : \n",
    "    return \" \".join( [ word_index.get( x , \"<UNK>\") for x in text_ids ] )\n",
    "\n",
    "decode_review( train_data[0] )"
   ]
  },
  {
   "cell_type": "code",
   "execution_count": 160,
   "id": "86d571c3",
   "metadata": {},
   "outputs": [
    {
     "name": "stdout",
     "output_type": "stream",
     "text": [
      "(25000,)\n",
      "(25000, 100)\n"
     ]
    }
   ],
   "source": [
    "max_length = 100 #字數限制 最多100 多的變成 '<PAD>' 的值 \n",
    "batch_size = 32\n",
    "\n",
    "print( train_data.shape )\n",
    "\n",
    "#處理 train 資料\n",
    "train_data = tf.keras.preprocessing.sequence.pad_sequences( \n",
    "    train_data ,       # 數據名稱\n",
    "    value =  0 ,       # 要補充的值 \n",
    "    padding = 'post' , # padding的顺序：post : padding放到句子的後面, pre: padding放到句子的前面\n",
    "    maxlen = max_length )\n",
    "\n",
    "#處理 test 資料\n",
    "test_data = tf.keras.preprocessing.sequence.pad_sequences( \n",
    "    test_data ,        # 數據名稱\n",
    "    value =  0 ,       # 要補充的值 \n",
    "    padding = 'post' , # padding的顺序：post : padding放到句子的後面, pre: padding放到句子的前面\n",
    "    maxlen = max_length )\n",
    "\n",
    "print( train_data.shape )"
   ]
  },
  {
   "cell_type": "code",
   "execution_count": 157,
   "id": "0d587659",
   "metadata": {},
   "outputs": [
    {
     "data": {
      "image/png": "[encoded data removed]",
      "text/plain": [
       "<IPython.core.display.Image object>"
      ]
     },
     "execution_count": 157,
     "metadata": {},
     "output_type": "execute_result"
    }
   ],
   "source": [
    "embedding_dim = 16  # 每个word embedding成一个长度为16的向量\n",
    "batch_size = 512    # 每个batch的长度\n",
    "model = tf.keras.Sequential()\n",
    "\n",
    "model.add( layers.Embedding( max_features , 128 , input_length = max_length ) ) \n",
    "\n",
    "model.add( layers.LSTM( units = 128 , dropout = 0.2 , recurrent_dropout = 0.2 ) ) \n",
    "model.add( layers.Dense( 1 , activation = 'sigmoid' ) )\n",
    "tf.keras.utils.plot_model( model , show_shapes = True )"
   ]
  },
  {
   "cell_type": "code",
   "execution_count": 161,
   "id": "9e6fbf77",
   "metadata": {},
   "outputs": [
    {
     "name": "stdout",
     "output_type": "stream",
     "text": [
      "Model: \"sequential_31\"\n",
      "_________________________________________________________________\n",
      " Layer (type)                Output Shape              Param #   \n",
      "=================================================================\n",
      " embedding_25 (Embedding)    (None, 100, 128)          2560000   \n",
      "                                                                 \n",
      " lstm_27 (LSTM)              (None, 128)               131584    \n",
      "                                                                 \n",
      " dense_51 (Dense)            (None, 1)                 129       \n",
      "                                                                 \n",
      "=================================================================\n",
      "Total params: 2,691,713\n",
      "Trainable params: 2,691,713\n",
      "Non-trainable params: 0\n",
      "_________________________________________________________________\n"
     ]
    }
   ],
   "source": [
    "model.compile( optimizer = \"adam\" ,\n",
    "               loss = \"binary_crossentropy\" , \n",
    "               metrics = [ 'accuracy' ] )\n",
    "model.summary()"
   ]
  },
  {
   "cell_type": "code",
   "execution_count": 162,
   "id": "db3bfe90",
   "metadata": {},
   "outputs": [
    {
     "name": "stdout",
     "output_type": "stream",
     "text": [
      "Epoch 1/15\n",
      "782/782 [==============================] - 116s 146ms/step - loss: 0.4317 - accuracy: 0.7975 - val_loss: 0.3627 - val_accuracy: 0.8489\n",
      "Epoch 2/15\n",
      "782/782 [==============================] - 112s 144ms/step - loss: 0.2485 - accuracy: 0.9054 - val_loss: 0.4120 - val_accuracy: 0.8351\n",
      "Epoch 3/15\n",
      "782/782 [==============================] - 112s 144ms/step - loss: 0.1651 - accuracy: 0.9412 - val_loss: 0.4176 - val_accuracy: 0.8410\n",
      "Epoch 4/15\n",
      "782/782 [==============================] - 113s 145ms/step - loss: 0.1109 - accuracy: 0.9619 - val_loss: 0.5784 - val_accuracy: 0.8301\n",
      "Epoch 5/15\n",
      "782/782 [==============================] - 113s 145ms/step - loss: 0.0817 - accuracy: 0.9731 - val_loss: 0.5589 - val_accuracy: 0.8300\n",
      "Epoch 6/15\n",
      "782/782 [==============================] - 114s 145ms/step - loss: 0.0624 - accuracy: 0.9799 - val_loss: 0.5568 - val_accuracy: 0.8210\n",
      "Epoch 7/15\n",
      "782/782 [==============================] - 113s 145ms/step - loss: 0.0422 - accuracy: 0.9870 - val_loss: 0.8866 - val_accuracy: 0.8265\n",
      "Epoch 8/15\n",
      "782/782 [==============================] - 113s 145ms/step - loss: 0.0371 - accuracy: 0.9883 - val_loss: 0.7062 - val_accuracy: 0.8316\n",
      "Epoch 9/15\n",
      "782/782 [==============================] - 114s 146ms/step - loss: 0.0258 - accuracy: 0.9930 - val_loss: 0.7099 - val_accuracy: 0.8294\n",
      "Epoch 10/15\n",
      "782/782 [==============================] - 113s 145ms/step - loss: 0.0267 - accuracy: 0.9920 - val_loss: 0.8500 - val_accuracy: 0.8234\n",
      "Epoch 11/15\n",
      "782/782 [==============================] - 113s 145ms/step - loss: 0.0185 - accuracy: 0.9942 - val_loss: 0.8489 - val_accuracy: 0.8255\n",
      "Epoch 12/15\n",
      "782/782 [==============================] - 113s 144ms/step - loss: 0.0225 - accuracy: 0.9931 - val_loss: 0.9773 - val_accuracy: 0.8222\n",
      "Epoch 13/15\n",
      "782/782 [==============================] - 113s 145ms/step - loss: 0.0128 - accuracy: 0.9966 - val_loss: 0.9466 - val_accuracy: 0.8248\n",
      "Epoch 14/15\n",
      "782/782 [==============================] - 113s 145ms/step - loss: 0.0212 - accuracy: 0.9935 - val_loss: 0.9003 - val_accuracy: 0.8221\n",
      "Epoch 15/15\n",
      "782/782 [==============================] - 113s 144ms/step - loss: 0.0103 - accuracy: 0.9970 - val_loss: 0.9442 - val_accuracy: 0.8215\n",
      "782/782 [==============================] - 13s 16ms/step - loss: 0.9442 - accuracy: 0.8215\n",
      "Test score:    0.9442343711853027\n",
      "Test accuracy: 0.8214799761772156\n"
     ]
    }
   ],
   "source": [
    "model.fit( train_data , train_labels , batch_size = batch_size , epochs = 15 ,  validation_data = ( test_data , test_labels ) )\n",
    "score, acc = model.evaluate( test_data , test_labels , batch_size = batch_size )\n",
    "print('Test score:   ' , score)\n",
    "print('Test accuracy:' , acc  )"
   ]
  },
  {
   "cell_type": "code",
   "execution_count": 163,
   "id": "3980972f",
   "metadata": {},
   "outputs": [],
   "source": [
    "#==== 別人的 ===="
   ]
  },
  {
   "cell_type": "code",
   "execution_count": 151,
   "id": "00b288aa",
   "metadata": {},
   "outputs": [
    {
     "name": "stdout",
     "output_type": "stream",
     "text": [
      "Loading data...\n",
      "25000 train sequences\n",
      "25000 test sequences\n",
      "Pad sequences (samples x time)\n",
      "x_train shape: (25000, 80)\n",
      "x_test shape: (25000, 80)\n",
      "Build model...\n",
      "Train...\n",
      "Epoch 1/15\n",
      "782/782 [==============================] - 131s 166ms/step - loss: 0.4207 - accuracy: 0.8029 - val_loss: 0.3768 - val_accuracy: 0.8348\n",
      "Epoch 2/15\n",
      "782/782 [==============================] - 133s 170ms/step - loss: 0.2585 - accuracy: 0.8960 - val_loss: 0.3687 - val_accuracy: 0.8370\n",
      "Epoch 3/15\n",
      "782/782 [==============================] - 145s 185ms/step - loss: 0.1672 - accuracy: 0.9363 - val_loss: 0.4299 - val_accuracy: 0.8262\n",
      "Epoch 4/15\n",
      "782/782 [==============================] - 138s 177ms/step - loss: 0.1110 - accuracy: 0.9598 - val_loss: 0.4710 - val_accuracy: 0.8184\n",
      "Epoch 5/15\n",
      "782/782 [==============================] - 135s 173ms/step - loss: 0.0803 - accuracy: 0.9724 - val_loss: 0.6501 - val_accuracy: 0.8223\n",
      "Epoch 6/15\n",
      "782/782 [==============================] - 118s 150ms/step - loss: 0.0556 - accuracy: 0.9800 - val_loss: 0.7335 - val_accuracy: 0.8146\n",
      "Epoch 7/15\n",
      "782/782 [==============================] - 97s 124ms/step - loss: 0.0426 - accuracy: 0.9864 - val_loss: 0.7587 - val_accuracy: 0.8177\n",
      "Epoch 8/15\n",
      "782/782 [==============================] - 97s 124ms/step - loss: 0.0308 - accuracy: 0.9899 - val_loss: 0.7411 - val_accuracy: 0.8160\n",
      "Epoch 9/15\n",
      "782/782 [==============================] - 97s 124ms/step - loss: 0.0261 - accuracy: 0.9918 - val_loss: 0.7387 - val_accuracy: 0.8082\n",
      "Epoch 10/15\n",
      "782/782 [==============================] - 97s 124ms/step - loss: 0.0238 - accuracy: 0.9926 - val_loss: 0.8539 - val_accuracy: 0.8130\n",
      "Epoch 11/15\n",
      "782/782 [==============================] - 97s 125ms/step - loss: 0.0174 - accuracy: 0.9948 - val_loss: 1.0024 - val_accuracy: 0.8141\n",
      "Epoch 12/15\n",
      "782/782 [==============================] - 97s 125ms/step - loss: 0.0134 - accuracy: 0.9960 - val_loss: 1.0143 - val_accuracy: 0.8084\n",
      "Epoch 13/15\n",
      "782/782 [==============================] - 97s 125ms/step - loss: 0.0164 - accuracy: 0.9951 - val_loss: 0.9763 - val_accuracy: 0.8144\n",
      "Epoch 14/15\n",
      "782/782 [==============================] - 98s 125ms/step - loss: 0.0091 - accuracy: 0.9970 - val_loss: 1.1813 - val_accuracy: 0.8152\n",
      "Epoch 15/15\n",
      "782/782 [==============================] - 98s 125ms/step - loss: 0.0130 - accuracy: 0.9959 - val_loss: 1.0266 - val_accuracy: 0.8107\n",
      "782/782 [==============================] - 12s 15ms/step - loss: 1.0266 - accuracy: 0.8107\n",
      "Test score: 1.0266307592391968\n",
      "Test accuracy: 0.8107200264930725\n"
     ]
    }
   ],
   "source": [
    "from __future__ import print_function\n",
    "\n",
    "from keras.preprocessing import sequence\n",
    "from keras.models import Sequential\n",
    "from keras.layers import Dense, Embedding\n",
    "from keras.layers import LSTM\n",
    "from keras.datasets import imdb\n",
    "\n",
    "max_features = 20000\n",
    "# cut texts after this number of words (among top max_features most common words)\n",
    "maxlen = 80\n",
    "batch_size = 32\n",
    "\n",
    "print('Loading data...')\n",
    "(x_train, y_train), (x_test, y_test) = imdb.load_data(num_words=max_features)\n",
    "print(len(x_train), 'train sequences')\n",
    "print(len(x_test), 'test sequences')\n",
    "\n",
    "print('Pad sequences (samples x time)')\n",
    "x_train = sequence.pad_sequences(x_train, maxlen=maxlen)\n",
    "x_test = sequence.pad_sequences(x_test, maxlen=maxlen)\n",
    "print('x_train shape:', x_train.shape)\n",
    "print('x_test shape:', x_test.shape)\n",
    "\n",
    "print('Build model...')\n",
    "model = Sequential()\n",
    "model.add(Embedding(max_features, 128))\n",
    "model.add(LSTM(128, dropout=0.2, recurrent_dropout=0.2))\n",
    "model.add(Dense(1, activation='sigmoid'))\n",
    "\n",
    "# try using different optimizers and different optimizer configs\n",
    "model.compile(loss='binary_crossentropy',\n",
    "              optimizer='adam',\n",
    "              metrics=['accuracy'])\n",
    "\n",
    "print('Train...')\n",
    "model.fit(x_train, y_train,\n",
    "          batch_size=batch_size,\n",
    "          epochs=15,\n",
    "          validation_data=(x_test, y_test))\n",
    "score, acc = model.evaluate(x_test, y_test,\n",
    "                            batch_size=batch_size)\n",
    "print('Test score:', score)\n",
    "print('Test accuracy:', acc)"
   ]
  }
 ],
 "metadata": {
  "kernelspec": {
   "display_name": "Python 3",
   "language": "python",
   "name": "python3"
  },
  "language_info": {
   "codemirror_mode": {
    "name": "ipython",
    "version": 3
   },
   "file_extension": ".py",
   "mimetype": "text/x-python",
   "name": "python",
   "nbconvert_exporter": "python",
   "pygments_lexer": "ipython3",
   "version": "3.8.8"
  }
 },
 "nbformat": 4,
 "nbformat_minor": 5
}
