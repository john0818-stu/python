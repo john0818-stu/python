{
 "cells": [
  {
   "cell_type": "code",
   "execution_count": 1,
   "metadata": {},
   "outputs": [],
   "source": [
    "import random"
   ]
  },
  {
   "cell_type": "code",
   "execution_count": 8,
   "metadata": {},
   "outputs": [
    {
     "name": "stdout",
     "output_type": "stream",
     "text": [
      "1\n",
      "[2, 1]\n"
     ]
    }
   ],
   "source": [
    "print( random.choice( [0,1,2,3,4] ) )      #取1筆資料\n",
    "print( random.sample( [0,1,2,3,4] , 2 ) )  #取2筆資料"
   ]
  },
  {
   "cell_type": "code",
   "execution_count": null,
   "metadata": {},
   "outputs": [],
   "source": [
    "data = [ 0 , 1 , 2 , 3 ]\n",
    "random.shuffle( data ) #調換順序\n",
    "print( dat )"
   ]
  },
  {
   "cell_type": "code",
   "execution_count": 20,
   "metadata": {},
   "outputs": [
    {
     "name": "stdout",
     "output_type": "stream",
     "text": [
      "0.7335301886756751\n",
      "1.4388436824433046\n",
      "6\n",
      "7\n"
     ]
    }
   ],
   "source": [
    "print( random.random() )             #取 0.0~1.0       之間亂數\n",
    "print( random.uniform( 1.0,2.0 ) )   #取 1.0~2.0       之間亂數\n",
    "print( random.randint(  1 , 10 ) )   #取 1  ~10        之間亂數\n",
    "print( random.randrange(1,10,2 ) )   #取 range(1,10,2) 之間亂數"
   ]
  },
  {
   "cell_type": "code",
   "execution_count": null,
   "metadata": {},
   "outputs": [],
   "source": []
  }
 ],
 "metadata": {
  "kernelspec": {
   "display_name": "Python 3",
   "language": "python",
   "name": "python3"
  },
  "language_info": {
   "codemirror_mode": {
    "name": "ipython",
    "version": 3
   },
   "file_extension": ".py",
   "mimetype": "text/x-python",
   "name": "python",
   "nbconvert_exporter": "python",
   "pygments_lexer": "ipython3",
   "version": "3.7.6"
  }
 },
 "nbformat": 4,
 "nbformat_minor": 4
}
