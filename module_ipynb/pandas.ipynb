{
 "cells": [
  {
   "cell_type": "code",
   "execution_count": 2,
   "metadata": {},
   "outputs": [],
   "source": [
    "import pandas as pd "
   ]
  },
  {
   "cell_type": "code",
   "execution_count": 9,
   "metadata": {},
   "outputs": [
    {
     "name": "stdout",
     "output_type": "stream",
     "text": [
      "9\n",
      "4.5\n",
      "------------\n",
      "0     0\n",
      "1     2\n",
      "2     4\n",
      "3     6\n",
      "4     8\n",
      "5    10\n",
      "6    12\n",
      "7    14\n",
      "8    16\n",
      "9    18\n",
      "dtype: int64\n"
     ]
    }
   ],
   "source": [
    "data = pd.Series( [ i for i in range(10) ] )\n",
    "print( data.max() )\n",
    "print( data.median() )\n",
    "print( \"------------\" )\n",
    "print( data*2 )"
   ]
  },
  {
   "cell_type": "code",
   "execution_count": 27,
   "metadata": {},
   "outputs": [
    {
     "name": "stdout",
     "output_type": "stream",
     "text": [
      "   name  salary\n",
      "0  john    3000\n",
      "1   amy      40\n",
      "2   bob      10\n",
      "----------\n",
      "0    john\n",
      "1     amy\n",
      "2     bob\n",
      "Name: name, dtype: object\n"
     ]
    }
   ],
   "source": [
    "dic = { \"name\":['john','amy',\"bob\"] , \"salary\":[3000,40,10] }\n",
    "data = pd.DataFrame( dic )\n",
    "print( data )\n",
    "print( \"----------\" )\n",
    "print( data['name'])"
   ]
  },
  {
   "cell_type": "code",
   "execution_count": 32,
   "metadata": {},
   "outputs": [
    {
     "name": "stdout",
     "output_type": "stream",
     "text": [
      "name      bob\n",
      "salary     10\n",
      "Name: 2, dtype: object\n"
     ]
    }
   ],
   "source": [
    "print( data.iloc[2] )"
   ]
  }
 ],
 "metadata": {
  "kernelspec": {
   "display_name": "Python 3",
   "language": "python",
   "name": "python3"
  },
  "language_info": {
   "codemirror_mode": {
    "name": "ipython",
    "version": 3
   },
   "file_extension": ".py",
   "mimetype": "text/x-python",
   "name": "python",
   "nbconvert_exporter": "python",
   "pygments_lexer": "ipython3",
   "version": "3.7.6"
  }
 },
 "nbformat": 4,
 "nbformat_minor": 4
}
